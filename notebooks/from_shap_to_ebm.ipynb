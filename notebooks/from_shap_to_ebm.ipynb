{
 "cells": [
  {
   "cell_type": "markdown",
   "id": "0",
   "metadata": {},
   "source": [
    "# From SHAP to EBM"
   ]
  },
  {
   "cell_type": "markdown",
   "id": "1",
   "metadata": {},
   "source": [
    "# Setup"
   ]
  },
  {
   "cell_type": "code",
   "execution_count": null,
   "id": "2",
   "metadata": {},
   "outputs": [],
   "source": [
    "import pandas as pd\n",
    "import plotly.express as px\n",
    "from xgboost import XGBRegressor"
   ]
  },
  {
   "cell_type": "code",
   "execution_count": null,
   "id": "3",
   "metadata": {},
   "outputs": [],
   "source": [
    "df = (\n",
    "    pd.read_csv(\"../data/diamonds.csv\", index_col=0)\n",
    "    .sample(5000, random_state=42)\n",
    "    .reset_index(drop=True)\n",
    ")\n",
    "df.head()"
   ]
  },
  {
   "cell_type": "markdown",
   "id": "4",
   "metadata": {},
   "source": [
    "# Data Processing"
   ]
  },
  {
   "cell_type": "code",
   "execution_count": null,
   "id": "5",
   "metadata": {},
   "outputs": [],
   "source": [
    "df = df[(df.x > 0) & (df.y > 0) & (df.z > 0) & (df.z < 30)]\n",
    "df[\"cut\"] = pd.Categorical(\n",
    "    df[\"cut\"],\n",
    "    categories=[\"Fair\", \"Good\", \"Very Good\", \"Premium\", \"Ideal\"],\n",
    "    ordered=True,\n",
    ")\n",
    "df[\"color\"] = pd.Categorical(\n",
    "    df[\"color\"], categories=[\"J\", \"I\", \"H\", \"G\", \"F\", \"E\", \"D\"], ordered=True\n",
    ")\n",
    "df[\"clarity\"] = pd.Categorical(\n",
    "    df[\"clarity\"],\n",
    "    categories=[\"I1\", \"SI2\", \"SI1\", \"VS2\", \"VS1\", \"VVS2\", \"VVS1\", \"IF\"],\n",
    "    ordered=True,\n",
    ")\n",
    "df.describe()"
   ]
  },
  {
   "cell_type": "code",
   "execution_count": null,
   "id": "6",
   "metadata": {},
   "outputs": [],
   "source": [
    "df.info()"
   ]
  },
  {
   "cell_type": "markdown",
   "id": "7",
   "metadata": {},
   "source": [
    "# Data Exploration"
   ]
  },
  {
   "cell_type": "code",
   "execution_count": null,
   "id": "8",
   "metadata": {},
   "outputs": [],
   "source": [
    "fig = px.scatter_matrix(\n",
    "    df, dimensions=[\"carat\", \"depth\", \"table\", \"price\", \"x\", \"y\", \"z\"]\n",
    ")\n",
    "fig.update_traces(marker=dict(size=3, opacity=0.5))\n",
    "fig.show()"
   ]
  },
  {
   "cell_type": "code",
   "execution_count": null,
   "id": "9",
   "metadata": {},
   "outputs": [],
   "source": [
    "px.violin(df, x=\"cut\", y=\"price\", color=\"cut\", title=\"Price by Cut\")"
   ]
  },
  {
   "cell_type": "code",
   "execution_count": null,
   "id": "10",
   "metadata": {},
   "outputs": [],
   "source": [
    "px.violin(df, x=\"color\", y=\"price\", color=\"color\", title=\"Price by Color\")"
   ]
  },
  {
   "cell_type": "code",
   "execution_count": null,
   "id": "11",
   "metadata": {},
   "outputs": [],
   "source": [
    "px.violin(df, x=\"clarity\", y=\"price\", color=\"clarity\", title=\"Price by Clarity\")"
   ]
  },
  {
   "cell_type": "code",
   "execution_count": null,
   "id": "12",
   "metadata": {},
   "outputs": [],
   "source": [
    "px.scatter(df, x=\"carat\", y=\"price\", color=\"cut\")"
   ]
  },
  {
   "cell_type": "markdown",
   "id": "13",
   "metadata": {},
   "source": [
    "# Modelling with XGBoost"
   ]
  },
  {
   "cell_type": "code",
   "execution_count": null,
   "id": "14",
   "metadata": {},
   "outputs": [],
   "source": [
    "train_x = df.drop(columns=\"price\").sample(frac=0.8, random_state=42)\n",
    "test_x = df.drop(columns=\"price\").drop(train_x.index)\n",
    "train_y = df[\"price\"].loc[train_x.index]\n",
    "test_y = df[\"price\"].loc[test_x.index]"
   ]
  },
  {
   "cell_type": "code",
   "execution_count": null,
   "id": "15",
   "metadata": {},
   "outputs": [],
   "source": [
    "model = XGBRegressor(\n",
    "    objective=\"reg:squarederror\",\n",
    "    max_depth=6,\n",
    "    eta=0.1,\n",
    "    subsample=0.8,\n",
    "    colsample_bytree=0.8,\n",
    "    seed=42,\n",
    "    n_estimators=100,\n",
    "    enable_categorical=True,\n",
    ")\n",
    "model.fit(train_x, train_y)\n",
    "predicted_y = model.predict(test_x)\n",
    "prediction_df = pd.DataFrame({\"actual\": test_y, \"predicted\": predicted_y})"
   ]
  },
  {
   "cell_type": "code",
   "execution_count": null,
   "id": "16",
   "metadata": {},
   "outputs": [],
   "source": [
    "def plot_gof(prediction_df: pd.DataFrame):\n",
    "    scatter_gof_fig = px.scatter(\n",
    "        prediction_df, x=\"predicted\", y=\"actual\", title=\"Goodness of Fit\"\n",
    "    )\n",
    "    scatter_gof_fig.add_shape(\n",
    "        type=\"line\",\n",
    "        x0=0,\n",
    "        y0=0,\n",
    "        x1=prediction_df[\"predicted\"].max(),\n",
    "        y1=prediction_df[\"predicted\"].max(),\n",
    "    )\n",
    "    scatter_gof_fig.update_layout(autosize=False, width=600, height=600)\n",
    "    scatter_gof_fig.show()\n",
    "    errors = prediction_df[\"actual\"] - prediction_df[\"predicted\"]\n",
    "    px.histogram(errors, title=\"Error Distribution\", nbins=500).update_layout(\n",
    "        showlegend=False\n",
    "    ).show()\n",
    "\n",
    "\n",
    "def compute_metrics(prediction_df: pd.DataFrame) -> dict[str, float]:\n",
    "    error = prediction_df[\"actual\"] - prediction_df[\"predicted\"]\n",
    "    mae = error.abs().mean()\n",
    "    rmse = (error**2).mean() ** 0.5\n",
    "    return {\"mae\": mae, \"rmse\": rmse}\n",
    "\n",
    "\n",
    "plot_gof(prediction_df)\n",
    "compute_metrics(prediction_df)"
   ]
  }
 ],
 "metadata": {
  "kernelspec": {
   "display_name": "Python 3",
   "language": "python",
   "name": "python3"
  },
  "language_info": {
   "codemirror_mode": {
    "name": "ipython",
    "version": 2
   },
   "file_extension": ".py",
   "mimetype": "text/x-python",
   "name": "python",
   "nbconvert_exporter": "python",
   "pygments_lexer": "ipython2",
   "version": "2.7.6"
  }
 },
 "nbformat": 4,
 "nbformat_minor": 5
}
