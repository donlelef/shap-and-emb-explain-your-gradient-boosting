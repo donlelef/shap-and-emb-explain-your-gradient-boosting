{
 "cells": [
  {
   "cell_type": "markdown",
   "id": "0",
   "metadata": {},
   "source": [
    "# From SHAP to EBM"
   ]
  },
  {
   "cell_type": "markdown",
   "id": "1",
   "metadata": {},
   "source": [
    "# Setup"
   ]
  },
  {
   "cell_type": "code",
   "execution_count": null,
   "id": "2",
   "metadata": {},
   "outputs": [],
   "source": [
    "import pandas as pd\n",
    "import plotly.express as px\n",
    "import shap\n",
    "import xgboost\n",
    "import interpret\n",
    "\n",
    "from interpret.glassbox import ExplainableBoostingRegressor"
   ]
  },
  {
   "cell_type": "code",
   "execution_count": null,
   "id": "3",
   "metadata": {},
   "outputs": [],
   "source": [
    "df = (\n",
    "    pd.read_csv(\"../data/diamonds.csv\", index_col=0)\n",
    "    .sample(5000, random_state=42)\n",
    "    .reset_index(drop=True)\n",
    ")\n",
    "df.head()"
   ]
  },
  {
   "cell_type": "markdown",
   "id": "4",
   "metadata": {},
   "source": [
    "# Data Processing"
   ]
  },
  {
   "cell_type": "code",
   "execution_count": null,
   "id": "5",
   "metadata": {},
   "outputs": [],
   "source": [
    "df = df[(df.x > 0) & (df.y > 0) & (df.z > 0) & (df.z < 30)]\n",
    "df[\"cut\"] = pd.Categorical(\n",
    "    df[\"cut\"],\n",
    "    categories=[\"Fair\", \"Good\", \"Very Good\", \"Premium\", \"Ideal\"],\n",
    "    ordered=True,\n",
    ")\n",
    "df[\"color\"] = pd.Categorical(\n",
    "    df[\"color\"], categories=[\"J\", \"I\", \"H\", \"G\", \"F\", \"E\", \"D\"], ordered=True\n",
    ")\n",
    "df[\"clarity\"] = pd.Categorical(\n",
    "    df[\"clarity\"],\n",
    "    categories=[\"I1\", \"SI2\", \"SI1\", \"VS2\", \"VS1\", \"VVS2\", \"VVS1\", \"IF\"],\n",
    "    ordered=True,\n",
    ")\n",
    "df.describe()"
   ]
  },
  {
   "cell_type": "code",
   "execution_count": null,
   "id": "6",
   "metadata": {},
   "outputs": [],
   "source": [
    "df.info()"
   ]
  },
  {
   "cell_type": "markdown",
   "id": "7",
   "metadata": {},
   "source": [
    "# Data Exploration"
   ]
  },
  {
   "cell_type": "code",
   "execution_count": null,
   "id": "8",
   "metadata": {},
   "outputs": [],
   "source": [
    "fig = px.scatter_matrix(\n",
    "    df, dimensions=[\"carat\", \"depth\", \"table\", \"price\", \"x\", \"y\", \"z\"]\n",
    ")\n",
    "fig.update_traces(marker=dict(size=3, opacity=0.5))\n",
    "fig.show()"
   ]
  },
  {
   "cell_type": "code",
   "execution_count": null,
   "id": "9",
   "metadata": {},
   "outputs": [],
   "source": [
    "px.violin(df, x=\"cut\", y=\"price\", color=\"cut\", title=\"Price by Cut\")"
   ]
  },
  {
   "cell_type": "code",
   "execution_count": null,
   "id": "10",
   "metadata": {},
   "outputs": [],
   "source": [
    "px.violin(df, x=\"color\", y=\"price\", color=\"color\", title=\"Price by Color\")"
   ]
  },
  {
   "cell_type": "code",
   "execution_count": null,
   "id": "11",
   "metadata": {},
   "outputs": [],
   "source": [
    "px.violin(df, x=\"clarity\", y=\"price\", color=\"clarity\", title=\"Price by Clarity\")"
   ]
  },
  {
   "cell_type": "code",
   "execution_count": null,
   "id": "12",
   "metadata": {},
   "outputs": [],
   "source": [
    "px.scatter(df, x=\"carat\", y=\"price\", color=\"cut\")"
   ]
  },
  {
   "cell_type": "markdown",
   "id": "13",
   "metadata": {},
   "source": [
    "# Modelling with XGBoost"
   ]
  },
  {
   "cell_type": "code",
   "execution_count": null,
   "id": "14",
   "metadata": {},
   "outputs": [],
   "source": [
    "model_df = df[\n",
    "    [\"carat\", \"cut\", \"color\", \"clarity\", \"depth\", \"table\", \"x\", \"y\", \"z\", \"price\"]\n",
    "].copy()"
   ]
  },
  {
   "cell_type": "code",
   "execution_count": null,
   "id": "15",
   "metadata": {},
   "outputs": [],
   "source": [
    "train_x = model_df.drop(columns=\"price\").sample(frac=0.8, random_state=42)\n",
    "test_x = model_df.drop(columns=\"price\").drop(train_x.index)\n",
    "train_y = model_df[\"price\"].loc[train_x.index]\n",
    "test_y = model_df[\"price\"].loc[test_x.index]\n",
    "train_x.shape, test_x.shape"
   ]
  },
  {
   "cell_type": "code",
   "execution_count": null,
   "id": "16",
   "metadata": {},
   "outputs": [],
   "source": [
    "model = xgboost.XGBRegressor(\n",
    "    objective=\"reg:squarederror\",\n",
    "    max_depth=6,\n",
    "    eta=0.1,\n",
    "    subsample=0.8,\n",
    "    colsample_bytree=0.8,\n",
    "    seed=42,\n",
    "    n_estimators=100,\n",
    "    enable_categorical=True,\n",
    ")\n",
    "model.fit(train_x, train_y)\n",
    "predicted_y = model.predict(test_x)\n",
    "prediction_df = pd.DataFrame({\"actual\": test_y, \"predicted\": predicted_y})"
   ]
  },
  {
   "cell_type": "code",
   "execution_count": null,
   "id": "17",
   "metadata": {},
   "outputs": [],
   "source": [
    "def plot_gof(prediction_df: pd.DataFrame):\n",
    "    scatter_gof_fig = px.scatter(\n",
    "        prediction_df, x=\"predicted\", y=\"actual\", title=\"Goodness of Fit\"\n",
    "    )\n",
    "    scatter_gof_fig.add_shape(\n",
    "        type=\"line\",\n",
    "        x0=0,\n",
    "        y0=0,\n",
    "        x1=prediction_df[\"predicted\"].max(),\n",
    "        y1=prediction_df[\"predicted\"].max(),\n",
    "    )\n",
    "    scatter_gof_fig.update_layout(autosize=False, width=600, height=600)\n",
    "    scatter_gof_fig.show()\n",
    "    errors = prediction_df[\"actual\"] - prediction_df[\"predicted\"]\n",
    "    px.histogram(errors, title=\"Error Distribution\", nbins=500).update_layout(\n",
    "        showlegend=False\n",
    "    ).show()\n",
    "\n",
    "\n",
    "def compute_metrics(prediction_df: pd.DataFrame) -> dict[str, float]:\n",
    "    error = prediction_df[\"actual\"] - prediction_df[\"predicted\"]\n",
    "    mae = error.abs().mean()\n",
    "    rmse = (error**2).mean() ** 0.5\n",
    "    return {\"mae\": mae, \"rmse\": rmse}\n",
    "\n",
    "\n",
    "plot_gof(prediction_df)\n",
    "compute_metrics(prediction_df)"
   ]
  },
  {
   "cell_type": "markdown",
   "id": "18",
   "metadata": {},
   "source": [
    "# Feature Importance"
   ]
  },
  {
   "cell_type": "code",
   "execution_count": null,
   "id": "19",
   "metadata": {},
   "outputs": [],
   "source": [
    "importance = model.get_booster().get_score(importance_type=\"weight\")\n",
    "importance_df = pd.DataFrame(\n",
    "    {\"Feature\": list(importance.keys()), \"Importance\": list(importance.values())}\n",
    ")\n",
    "\n",
    "importance_df = importance_df.sort_values(by=\"Importance\", ascending=True)\n",
    "\n",
    "fig = px.bar(\n",
    "    importance_df,\n",
    "    x=\"Importance\",\n",
    "    y=\"Feature\",\n",
    "    orientation=\"h\",\n",
    "    title=\"Feature Importance\",\n",
    ")\n",
    "fig.show()"
   ]
  },
  {
   "cell_type": "markdown",
   "id": "20",
   "metadata": {},
   "source": [
    "# SHAP"
   ]
  },
  {
   "cell_type": "code",
   "execution_count": null,
   "id": "21",
   "metadata": {},
   "outputs": [],
   "source": [
    "shap.initjs()"
   ]
  },
  {
   "cell_type": "code",
   "execution_count": null,
   "id": "22",
   "metadata": {},
   "outputs": [],
   "source": [
    "explainer = shap.TreeExplainer(model)\n",
    "shap_values = explainer(train_x)\n",
    "shap.summary_plot(shap_values, train_x, plot_type=\"bar\", show=False)"
   ]
  },
  {
   "cell_type": "code",
   "execution_count": null,
   "id": "23",
   "metadata": {},
   "outputs": [],
   "source": [
    "shap.summary_plot(shap_values, train_x, show=False)"
   ]
  },
  {
   "cell_type": "code",
   "execution_count": null,
   "id": "24",
   "metadata": {},
   "outputs": [],
   "source": [
    "sample_index = 0\n",
    "shap_values_test = explainer.shap_values(test_x)\n",
    "shap.force_plot(\n",
    "    explainer.expected_value,\n",
    "    shap_values_test[sample_index, :],\n",
    "    test_x.iloc[sample_index, :],\n",
    ")"
   ]
  },
  {
   "cell_type": "markdown",
   "id": "25",
   "metadata": {},
   "source": [
    "# EBM"
   ]
  },
  {
   "cell_type": "code",
   "execution_count": null,
   "id": "26",
   "metadata": {},
   "outputs": [],
   "source": [
    "ebm = ExplainableBoostingRegressor(random_state=42)\n",
    "ebm.fit(train_x, train_y)\n",
    "predicted_y_ebm = ebm.predict(test_x)\n",
    "prediction_df_ebm = pd.DataFrame({\"actual\": test_y, \"predicted\": predicted_y_ebm})"
   ]
  },
  {
   "cell_type": "code",
   "execution_count": null,
   "id": "27",
   "metadata": {},
   "outputs": [],
   "source": [
    "plot_gof(prediction_df_ebm)\n",
    "compute_metrics(prediction_df_ebm)"
   ]
  },
  {
   "cell_type": "code",
   "execution_count": null,
   "id": "28",
   "metadata": {},
   "outputs": [],
   "source": [
    "ebm_global = ebm.explain_global()\n",
    "interpret.show(ebm_global)"
   ]
  },
  {
   "cell_type": "code",
   "execution_count": null,
   "id": "29",
   "metadata": {},
   "outputs": [],
   "source": [
    "ebm_local = ebm.explain_local(test_x, test_y)\n",
    "interpret.show(ebm_local)"
   ]
  }
 ],
 "metadata": {
  "kernelspec": {
   "display_name": "Python 3",
   "language": "python",
   "name": "python3"
  },
  "language_info": {
   "codemirror_mode": {
    "name": "ipython",
    "version": 2
   },
   "file_extension": ".py",
   "mimetype": "text/x-python",
   "name": "python",
   "nbconvert_exporter": "python",
   "pygments_lexer": "ipython2",
   "version": "2.7.6"
  }
 },
 "nbformat": 4,
 "nbformat_minor": 5
}
